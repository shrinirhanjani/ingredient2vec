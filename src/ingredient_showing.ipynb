{
 "cells": [
  {
   "cell_type": "code",
   "execution_count": 18,
   "metadata": {},
   "outputs": [
    {
     "name": "stdout",
     "output_type": "stream",
     "text": [
      "\n",
      "\n",
      "...Load Word2Vec with a file name of ../results/embeddings/embeddings_ingredients_cc_inchi_f-5_rs-True_ns-50_ifcharemb-True_dim-10_1801041938.bin\n",
      "\n",
      "\n",
      "...Load Word2Vec with a file name of ../results/embeddings/embeddings_ingredients_ic_f-5_rs-False_ns-50_ifcharemb-True_dim-10_1801041938.bin\n"
     ]
    }
   ],
   "source": [
    "import os\n",
    "import collections\n",
    "import smart_open\n",
    "import random\n",
    "import numpy as np\n",
    "import h5py\n",
    "from gensim.models.keyedvectors import KeyedVectors\n",
    "\n",
    "import Config\n",
    "from utils import DataLoader, GensimModels, DataPlotter\n",
    "gensimLoader = GensimModels.GensimModels()\n",
    "dataLoader = DataLoader.DataLoader()\n",
    "\n",
    "path_results = \"..\" + os.sep + \"results\" + os.sep + \"embeddings\"\n",
    "path_data = '..' + os.sep + 'data'\n",
    "\n",
    "path_ingr_info = path_data + os.sep + 'scientific_report' + os.sep + 'ingr_info.tsv'\n",
    "model_ingr2vec_cc = gensimLoader.load_word2vec(path=path_results + os.sep + \"embeddings_ingredients_cc_inchi_f-5_rs-True_ns-50_ifcharemb-True_dim-10_1801041938.bin\")\n",
    "model_ingr2vec_ic = gensimLoader.load_word2vec(path=path_results + os.sep + \"embeddings_ingredients_ic_f-5_rs-False_ns-50_ifcharemb-True_dim-10_1801041938.bin\")"
   ]
  },
  {
   "cell_type": "code",
   "execution_count": 30,
   "metadata": {},
   "outputs": [
    {
     "name": "stdout",
     "output_type": "stream",
     "text": [
      "619\n",
      "2073\n"
     ]
    }
   ],
   "source": [
    "print (len(model_ingr2vec_cc.key_to_index))\n",
    "print (len(model_ingr2vec_ic.key_to_index))"
   ]
  },
  {
   "cell_type": "code",
   "execution_count": 21,
   "metadata": {},
   "outputs": [
    {
     "name": "stdout",
     "output_type": "stream",
     "text": [
      "278\n"
     ]
    }
   ],
   "source": [
    "both = []\n",
    "for i in model_ingr2vec_cc.key_to_index:\n",
    "    if i in model_ingr2vec_ic.key_to_index:\n",
    "        both.append(i)\n",
    "print (len(both))"
   ]
  },
  {
   "cell_type": "code",
   "execution_count": 23,
   "metadata": {},
   "outputs": [
    {
     "name": "stdout",
     "output_type": "stream",
     "text": [
      "55\n"
     ]
    }
   ],
   "source": [
    "ingredients = dataLoader.load_ingredients(path_ingr_info)\n",
    "category_ingredients = {}\n",
    "\n",
    "for i in ingredients:\n",
    "    ingr = ingredients[i][0]\n",
    "    cate = ingredients[i][1]\n",
    "    \n",
    "    if cate in category_ingredients:\n",
    "        category_ingredients[cate].append(ingr)\n",
    "    else:\n",
    "        category_ingredients[cate] = [ingr]\n",
    "\n",
    "print (len(category_ingredients['spice']))"
   ]
  },
  {
   "cell_type": "code",
   "execution_count": 27,
   "metadata": {},
   "outputs": [
    {
     "name": "stdout",
     "output_type": "stream",
     "text": [
      "caraway\n",
      "Compound Embedding\n",
      "[('rosemary', 0.9952489733695984), ('laurel', 0.9928631782531738), ('cumin', 0.9928439855575562), ('celery_seed', 0.9923613667488098), ('ginger', 0.9918344616889954), ('cypress', 0.9910919666290283), ('citronella', 0.9908725023269653), ('angelica_root', 0.990636944770813), ('angelica_root_oil', 0.990149974822998), ('calabash_nutmeg', 0.9900018572807312)]\n",
      "Ingredient Context Embedding\n",
      "[('sauerkraut', 0.7614206671714783), ('seed', 0.6336358785629272), ('lima_bean', 0.6259648203849792), ('roasted_pork', 0.6075268387794495), ('rye_flour', 0.6006981730461121), ('turnip', 0.5971267223358154), ('mustard', 0.5809628963470459), ('rutabaga', 0.5789994597434998), ('beet', 0.5636249780654907), ('parsnip', 0.5567858219146729)]\n",
      "ginger\n",
      "Compound Embedding\n",
      "[('cumin', 0.9987381100654602), ('turmeric', 0.9970475435256958), ('laurel', 0.9960987567901611), ('nutmeg', 0.9947224855422974), ('fennel', 0.993418276309967), ('spanish_sage', 0.993377149105072), ('mace', 0.9932326674461365), ('celery_seed', 0.9929561018943787), ('tarragon', 0.992766797542572), ('basil', 0.9921654462814331)]\n",
      "Ingredient Context Embedding\n",
      "[('cashew', 0.6894425749778748), ('gingerroot', 0.6418617963790894), ('dried_red_chile_peppers', 0.5872674584388733), ('red_chili_peppers', 0.5872126817703247), ('leaves', 0.5658699870109558), ('prawn', 0.5586203336715698), ('sunflower_oil', 0.5575148463249207), ('anise', 0.5517505407333374), ('peanuts', 0.5505467653274536), ('lemongrass', 0.5488912463188171)]\n",
      "vanilla\n",
      "Compound Embedding\n",
      "[('cherimoya', 0.9958348870277405), ('cognac', 0.9952087998390198), ('yellow_passion_fruit', 0.9944927096366882), ('yellow_passion_fruit_juice', 0.9944713115692139), ('bilberry_wine', 0.9931601881980896), ('grape_vine', 0.9923215508460999), ('tomato', 0.9923213720321655), ('roasted_chicory_root', 0.9912036061286926), ('mountain_papaya', 0.9909026622772217), ('malt_whiskey', 0.9907790422439575)]\n",
      "Ingredient Context Embedding\n",
      "[('oatmeal', 0.8326979279518127), ('sour_milk', 0.8116918802261353), ('chocolate', 0.7812902331352234), ('fruit', 0.7811603546142578), ('blackberry', 0.7607824206352234), ('rhubarb', 0.7607781291007996), ('coffee', 0.7596724629402161), ('semisweet_chocolate', 0.7446810007095337), ('bittersweet_chocolate', 0.7414348125457764), ('confectioners_sugar', 0.7412296533584595)]\n",
      "cardamom\n",
      "Compound Embedding\n",
      "[('java_citronella', 0.9946469068527222), ('lemongrass', 0.9925895929336548), ('caraway_seed', 0.9906631708145142), ('cilantro', 0.9872984886169434), ('animal', 0.9847615957260132), ('mandarin_peel_oil', 0.9841147661209106), ('angelica_root', 0.9839398860931396), ('neroli_oil', 0.983491063117981), ('cypress', 0.9827254414558411), ('mandarin_peel', 0.981389582157135)]\n",
      "Ingredient Context Embedding\n",
      "[('mace', 0.8522912859916687), ('clove', 0.8476211428642273), ('ghee', 0.8256347179412842), ('curds', 0.819904625415802), ('yoghurt', 0.807157039642334), ('whole_cloves', 0.7904105186462402), ('tumeric', 0.7760809659957886), ('jaggery', 0.7699850797653198), ('garam_masala', 0.7601115703582764), ('kasuri_methi', 0.7553231120109558)]\n",
      "cinnamon\n",
      "Compound Embedding\n",
      "[('cassia', 0.9949665665626526), ('eucalyptus', 0.994780957698822), ('myrtle', 0.9942435026168823), ('tobacco', 0.9941427707672119), ('clove', 0.9938220381736755), ('orange_flower', 0.9930300712585449), ('bulgarian_rose', 0.9928670525550842), ('fennel', 0.9927982091903687), ('pimento', 0.991899311542511), ('pepper', 0.9918180108070374)]\n",
      "Ingredient Context Embedding\n",
      "[('mace', 0.7078460454940796), ('cardamom', 0.6245687007904053), ('apricot', 0.5905779600143433), ('ground_cloves', 0.5758577585220337), ('currant', 0.5666881799697876), ('whole_cloves', 0.5610303282737732), ('cardamon', 0.5484664440155029), ('date', 0.5430352687835693), ('golden_raisins', 0.5257517099380493), ('yam', 0.5244641304016113)]\n",
      "licorice\n",
      "Compound Embedding\n",
      "[('peated_malt', 0.9918969869613647), ('buckwheat', 0.9914918541908264), ('sapodilla_fruit', 0.9880099296569824), ('cuttlefish', 0.9875321984291077), ('black_tea', 0.9853397607803345), ('roasted_mate', 0.9847915172576904), ('fermented_shrimp', 0.9845986366271973), ('wild_rice', 0.9845603108406067), ('scotch', 0.9843500256538391), ('roasted_shrimp', 0.9832030534744263)]\n",
      "Ingredient Context Embedding\n",
      "[('aai', 0.9226027131080627), ('cookies', 0.9209879636764526), ('firmly_packed_light_brown_sugar', 0.9204803109169006), ('brewed_espresso', 0.9190033078193665), ('espresso', 0.9143556356430054), ('chocolate_syrup', 0.9140827059745789), ('extract', 0.9092535972595215), ('cacao', 0.902767539024353), ('cool_whip', 0.9027506709098816), ('color_food_green', 0.9017561674118042)]\n",
      "tamarind\n",
      "Compound Embedding\n",
      "[('raisin', 0.9968722462654114), ('japanese_plum', 0.9932719469070435), ('endive', 0.9921295642852783), ('oat', 0.9920104742050171), ('prickly_pear', 0.9920040965080261), ('saffron', 0.9909259080886841), ('soybean', 0.9908261895179749), ('toasted_oat', 0.990587592124939), ('rice', 0.9904167056083679), ('okra', 0.990278422832489)]\n",
      "Ingredient Context Embedding\n",
      "[('tabasco_pepper', 0.6476220488548279), ('roasted_beef', 0.5562087297439575), ('bell_pepper', 0.5371447801589966), ('horseradish', 0.5338757038116455), ('celery_oil', 0.5265859365463257), ('smoke', 0.5201981663703918), ('tomato_juice', 0.5173831582069397), ('green_bell_pepper', 0.5087340474128723), ('chinese_cabbage', 0.5052231550216675), ('radish', 0.5047739744186401)]\n",
      "saffron\n",
      "Compound Embedding\n",
      "[('rice', 0.9924017786979675), ('tomato', 0.9919756054878235), ('hyacinth_oil', 0.9917252063751221), ('brown_rice', 0.9913511872291565), ('lingonberry', 0.9912711381912231), ('tamarind', 0.990925669670105), ('raisin', 0.9906781315803528), ('orange_flower', 0.9904770255088806), ('peru_balsam', 0.9895316958427429), ('potato_chip', 0.989494800567627)]\n",
      "Ingredient Context Embedding\n",
      "[('chickpeas', 0.7422950267791748), ('couscous', 0.740629255771637), ('ras_el_hanout', 0.683742880821228), ('fennel', 0.6548314690589905), ('cardamom', 0.6435984969139099), ('lamb', 0.6280325055122375), ('mussels', 0.6149163842201233), ('sweet_paprika', 0.6072235703468323), ('black_peppercorns', 0.6044172048568726), ('tumeric', 0.6019299626350403)]\n",
      "thai_pepper\n",
      "Compound Embedding\n",
      "[('tabasco_pepper', 0.9998733997344971), ('malagueta_pepper', 0.9998453855514526), ('ashanti_pepper', 0.9997861385345459), ('ethiopian_pepper', 0.9996529221534729), ('capsicum', 0.9996021389961243), ('green_bell_pepper', 0.9995070695877075), ('california_pepper', 0.9994872212409973), ('pepper', 0.9994100332260132), ('long_pepper', 0.9992206692695618), ('cayenne', 0.9991040825843811)]\n",
      "Ingredient Context Embedding\n",
      "[('galanga', 0.8593188524246216), ('octopus', 0.8207598328590393), ('root', 0.7906556129455566), ('kelp', 0.7530686855316162), ('nira', 0.74064701795578), ('mussel', 0.7387921214103699), ('long_beans', 0.7385683059692383), ('lemongrass', 0.7286195755004883), ('thai_chile', 0.7249582409858704), ('prawn', 0.7238914966583252)]\n",
      "turmeric\n",
      "Compound Embedding\n",
      "[('ginger', 0.9970472455024719), ('cumin', 0.9969936609268188), ('clary_sage', 0.9942095875740051), ('laurel', 0.9932886362075806), ('mace', 0.9931758046150208), ('nutmeg', 0.9899790287017822), ('caraway', 0.989950954914093), ('rosemary', 0.989672839641571), ('basil', 0.9888530969619751), ('rapeseed', 0.9886210560798645)]\n",
      "Ingredient Context Embedding\n",
      "[('tumeric', 0.7417309284210205), ('garam_masala', 0.694964587688446), ('cashew', 0.6757533550262451), ('curry', 0.6470047235488892), ('red_lentils', 0.6425669193267822), ('curry_leaves', 0.6248615384101868), ('fresh_curry_leaves', 0.61387699842453), ('chickpea', 0.5900774002075195), ('yoghurt', 0.5895330905914307), ('urad_dal', 0.5893557667732239)]\n",
      "cayenne\n",
      "Compound Embedding\n",
      "[('thai_pepper', 0.9991040825843811), ('tabasco_pepper', 0.9989566206932068), ('malagueta_pepper', 0.9987990260124207), ('green_bell_pepper', 0.9987159967422485), ('capsicum', 0.9985600113868713), ('ashanti_pepper', 0.9982472658157349), ('california_pepper', 0.9980998635292053), ('ethiopian_pepper', 0.9980058073997498), ('pepper', 0.9976246953010559), ('capsicum_annuum', 0.9975545406341553)]\n",
      "Ingredient Context Embedding\n",
      "[('tabasco_pepper', 0.6756259202957153), ('black_bean', 0.6255877614021301), ('bell_pepper', 0.5737098455429077), ('kidney_bean', 0.5533637404441833), ('carrot', 0.5041617751121521), ('lima_bean', 0.5015048980712891), ('tomato_juice', 0.4926721453666687), ('corn_grit', 0.49256980419158936), ('lime_juice', 0.4892100691795349), ('green_bell_pepper', 0.48676034808158875)]\n",
      "tabasco_pepper\n",
      "Compound Embedding\n",
      "[('malagueta_pepper', 0.9999191761016846), ('thai_pepper', 0.9998733997344971), ('ashanti_pepper', 0.9997867345809937), ('ethiopian_pepper', 0.9995845556259155), ('capsicum', 0.9994515180587769), ('california_pepper', 0.9994248151779175), ('pepper', 0.9994179606437683), ('green_bell_pepper', 0.999283492565155), ('black_pepper', 0.9990851879119873), ('long_pepper', 0.9990609288215637)]\n",
      "Ingredient Context Embedding\n",
      "[('tomato_juice', 0.7609368562698364), ('smoke', 0.7138051390647888), ('roasted_sesame_seed', 0.6857781410217285), ('radish', 0.6775345802307129), ('lima_bean', 0.6767318248748779), ('cayenne', 0.6756259799003601), ('black_bean', 0.6738163828849792), ('corn_grit', 0.6665231585502625), ('horseradish', 0.6612229347229004), ('celery_oil', 0.654233455657959)]\n",
      "pepper\n",
      "Compound Embedding\n",
      "[('ethiopian_pepper', 0.9999458193778992), ('guinea_pepper', 0.9998303651809692), ('long_pepper', 0.9997944831848145), ('california_pepper', 0.999734103679657), ('capsicum', 0.9997206330299377), ('ashanti_pepper', 0.9997079968452454), ('black_pepper', 0.9996325373649597), ('malagueta_pepper', 0.9996127486228943), ('green_bell_pepper', 0.9994496703147888), ('capsicum_annuum', 0.9994233250617981)]\n",
      "Ingredient Context Embedding\n",
      "[('kale', 0.5875422954559326), ('stewed_tomatoes', 0.5402857661247253), ('andouille_sausage', 0.5250869989395142), ('white_beans', 0.5244348049163818), ('smoked_paprika', 0.519072413444519), ('turkey', 0.5176275968551636), ('okra', 0.5164663791656494), ('tomatoes_with_juice', 0.5158097147941589), ('kidney_beans', 0.502844512462616), ('sausages', 0.5005861520767212)]\n",
      "black_pepper\n",
      "Compound Embedding\n",
      "[('california_pepper', 0.9997950792312622), ('long_pepper', 0.9997943639755249), ('capsicum_annuum', 0.9996607899665833), ('ethiopian_pepper', 0.9996483325958252), ('pepper', 0.9996324777603149), ('guinea_pepper', 0.999630331993103), ('capsicum', 0.9995566010475159), ('ashanti_pepper', 0.9995017647743225), ('tabasco_pepper', 0.9990851879119873), ('malagueta_pepper', 0.9990677833557129)]\n",
      "Ingredient Context Embedding\n",
      "[('brassica', 0.6608271598815918), ('bell_pepper', 0.6571577787399292), ('chicken_broth', 0.6483199000358582), ('white_wine', 0.624986469745636), ('roasted_sesame_seed', 0.6017838716506958), ('scallion', 0.5934610366821289), ('green_bell_pepper', 0.5881402492523193), ('vegetable_oil', 0.5845540165901184), ('radish', 0.5777170062065125), ('beef_broth', 0.5734724402427673)]\n",
      "pimento\n",
      "Compound Embedding\n",
      "[('tabasco_pepper', 0.9945507645606995), ('malagueta_pepper', 0.9942679405212402), ('thai_pepper', 0.9936815500259399), ('ashanti_pepper', 0.9933977723121643), ('cayenne', 0.9931505918502808), ('ethiopian_pepper', 0.9921822547912598), ('cinnamon', 0.991899311542511), ('pepper', 0.9918935298919678), ('capsicum', 0.9914379715919495), ('feijoa', 0.9913944005966187)]\n",
      "Ingredient Context Embedding\n",
      "[('artichoke', 0.705383837223053), ('tuna', 0.6810253262519836), ('blue_cheese', 0.6606178283691406), ('rye_bread', 0.6546962261199951), ('goat_cheese', 0.646959125995636), ('white_bread', 0.6398067474365234), ('wheat_bread', 0.6257184743881226), ('cured_pork', 0.6111721396446228), ('feta_cheese', 0.6110793352127075), ('smoked_salmon', 0.6104749441146851)]\n",
      "coriander\n",
      "Compound Embedding\n",
      "[('azalea', 0.9930391907691956), ('cruciferae_seed', 0.992821991443634), ('mace', 0.9918245077133179), ('carrot', 0.990890383720398), ('acacia', 0.9906306266784668), ('dill_blossom', 0.990319013595581), ('east_indian_geranium', 0.9899555444717407), ('chestnut_flower', 0.9895391464233398), ('neroli', 0.989533543586731), ('rapeseed', 0.9894852042198181)]\n",
      "Ingredient Context Embedding\n",
      "[('garam_masala', 0.7264569997787476), ('fresh_curry_leaves', 0.725557267665863), ('curry', 0.7021230459213257), ('tumeric', 0.6968111395835876), ('curry_leaves', 0.6953659653663635), ('cashew', 0.6905635595321655), ('red_chili_powder', 0.6683449149131775), ('dried_red_chile_peppers', 0.6574586629867554), ('urad_dal', 0.656328022480011), ('red_lentils', 0.6562294363975525)]\n",
      "clove\n",
      "Compound Embedding\n",
      "[('german_chamomile_oil', 0.995431125164032), ('eucalyptus', 0.9947994351387024), ('anise', 0.9940395951271057), ('cinnamon', 0.9938220977783203), ('basil', 0.9936416149139404), ('fennel', 0.993305504322052), ('chinese_star_anise', 0.9925673007965088), ('sage', 0.992466390132904), ('star_anise', 0.9922341704368591), ('myrtle', 0.9917410612106323)]\n",
      "Ingredient Context Embedding\n",
      "[('black_peppercorns', 0.8816165328025818), ('whole_cloves', 0.8555935621261597), ('cardamom', 0.8476211428642273), ('peppercorns', 0.8288131952285767), ('red_chili_powder', 0.8085736632347107), ('ghee', 0.8034188151359558), ('curds', 0.799706757068634), ('mace', 0.7956750988960266), ('curry', 0.7891721129417419), ('fresh_curry_leaves', 0.7854693531990051)]\n",
      "star_anise\n",
      "Compound Embedding\n",
      "[('chinese_star_anise', 0.9996544122695923), ('japanese_star_anise', 0.9993250370025635), ('anise', 0.9948580265045166), ('daffodil', 0.9945757389068604), ('cassia', 0.9943175315856934), ('camphor_oil', 0.9933823347091675), ('hyacinth', 0.9932014346122742), ('fennel', 0.9930497407913208), ('camphor', 0.9930142760276794), ('clove', 0.9922340512275696)]\n",
      "Ingredient Context Embedding\n",
      "[('cranberry', 0.8045181632041931), ('orange_juice', 0.7585805058479309), ('yam', 0.7568726539611816), ('pear', 0.7481081485748291), ('sweet_potato', 0.7366814017295837), ('port_wine', 0.7166492342948914), ('currant', 0.7056732773780823), ('orange_peel', 0.7053807973861694), ('black_tea', 0.6934322118759155), ('kumquat', 0.6920896768569946)]\n",
      "mace\n",
      "Compound Embedding\n",
      "[('nutmeg', 0.9944154024124146), ('cruciferae_seed', 0.9942624568939209), ('rapeseed', 0.9941176176071167), ('dill', 0.9933305978775024), ('ginger', 0.9932326674461365), ('turmeric', 0.9931758046150208), ('basil', 0.9922670722007751), ('cumin', 0.9921951293945312), ('seed', 0.9919047355651855), ('carrot', 0.9919024705886841)]\n",
      "Ingredient Context Embedding\n",
      "[('cardamom', 0.8522912859916687), ('whole_cloves', 0.8145442605018616), ('currant', 0.8044429421424866), ('clove', 0.7956750392913818), ('apricot', 0.789205014705658), ('shahi_jeera', 0.765166163444519), ('allspice', 0.7402290105819702), ('sweet_potato', 0.7361322045326233), ('curds', 0.7289331555366516), ('cinnamon', 0.7078460454940796)]\n",
      "anise\n",
      "Compound Embedding\n",
      "[('chinese_star_anise', 0.996337890625), ('japanese_star_anise', 0.9955262541770935), ('fennel', 0.9953321218490601), ('star_anise', 0.9948579668998718), ('clove', 0.9940395951271057), ('eucalyptus_globulus', 0.9928184151649475), ('sage', 0.9918668866157532), ('tarragon', 0.9907699823379517), ('calabash_nutmeg', 0.9902218580245972), ('german_chamomile_oil', 0.9900034666061401)]\n",
      "Ingredient Context Embedding\n",
      "[('whole_cloves', 0.6810614466667175), ('szechwan_peppercorns', 0.6722577810287476), ('clove', 0.6486359238624573), ('cornflour', 0.6468575596809387), ('dried_red_chile_peppers', 0.6438146829605103), ('star_anise', 0.6372888088226318), ('cardamom', 0.6344781517982483), ('peppercorns', 0.6298401355743408), ('malt', 0.6210935711860657), ('mace', 0.6164873242378235)]\n",
      "cumin\n",
      "Compound Embedding\n",
      "[('ginger', 0.9987379908561707), ('laurel', 0.9979020953178406), ('turmeric', 0.9969937801361084), ('nutmeg', 0.9941482543945312), ('spanish_sage', 0.9934651255607605), ('celery_seed', 0.9933320879936218), ('tarragon', 0.9928816556930542), ('caraway', 0.9928439855575562), ('mace', 0.9921951293945312), ('clary_sage', 0.9921690225601196)]\n",
      "Ingredient Context Embedding\n",
      "[('chopped_tomatoes', 0.5296465158462524), ('garam_masala', 0.5153153538703918), ('masala', 0.5078414082527161), ('red_lentils', 0.4865702688694), ('cilantro', 0.47618338465690613), ('green_chilies', 0.47230255603790283), ('curry', 0.46659037470817566), ('lentils', 0.4594101905822754), ('yellow_split_peas', 0.458162784576416), ('fresh_curry_leaves', 0.4564402401447296)]\n",
      "nutmeg\n",
      "Compound Embedding\n",
      "[('spanish_sage', 0.9958894848823547), ('laurel', 0.9954202771186829), ('seed', 0.9950994849205017), ('rapeseed', 0.9947524070739746), ('ginger', 0.9947224259376526), ('mace', 0.9944153428077698), ('cumin', 0.9941481947898865), ('tarragon', 0.9938524961471558), ('celery_seed', 0.9936387538909912), ('safflower_seed', 0.9930895566940308)]\n",
      "Ingredient Context Embedding\n",
      "[('yam', 0.5540041923522949), ('currant', 0.5257266759872437), ('sweet_potato', 0.5170875191688538), ('mace', 0.5121788382530212), ('apricot', 0.4986836910247803), ('date', 0.4884338974952698), ('quince', 0.48052355647087097), ('sage', 0.4758433699607849), ('fig', 0.473030686378479), ('maple_syrup', 0.4584905803203583)]\n",
      "22\n"
     ]
    }
   ],
   "source": [
    "cate = 'spice'\n",
    "\n",
    "count = 0\n",
    "for i in both:\n",
    "    if i in category_ingredients[cate]:\n",
    "        print \n",
    "        print (i)\n",
    "        print\n",
    "        print (\"Compound Embedding\")\n",
    "        print (model_ingr2vec_cc.most_similar(positive=[i], topn=10))\n",
    "        print\n",
    "        print (\"Ingredient Context Embedding\")\n",
    "        print (model_ingr2vec_ic.most_similar(positive=[i], topn=10))\n",
    "        #print\n",
    "        #print\n",
    "        count += 1\n",
    "print (count)"
   ]
  },
  {
   "cell_type": "code",
   "execution_count": 28,
   "metadata": {},
   "outputs": [
    {
     "data": {
      "text/plain": [
       "[('veal', 0.7714346647262573),\n",
       " ('porcini', 0.753256618976593),\n",
       " ('cured_pork', 0.7221237421035767),\n",
       " ('liver', 0.695658802986145),\n",
       " ('cremini_mushrooms', 0.6681400537490845),\n",
       " ('parsnip', 0.6633132100105286),\n",
       " ('marjoram', 0.6559062600135803),\n",
       " ('turkey', 0.6452404260635376),\n",
       " ('ham', 0.6436521410942078),\n",
       " ('bacon', 0.6404696106910706)]"
      ]
     },
     "execution_count": 28,
     "metadata": {},
     "output_type": "execute_result"
    }
   ],
   "source": [
    "model_ingr2vec_ic.most_similar(positive=['beef', 'truffle'], topn=10)"
   ]
  },
  {
   "cell_type": "code",
   "execution_count": 29,
   "metadata": {},
   "outputs": [
    {
     "data": {
      "text/plain": [
       "[('caraway', 0.45532116293907166),\n",
       " ('beef', 0.4517974555492401),\n",
       " ('beer', 0.446903795003891),\n",
       " ('bay', 0.4462040662765503),\n",
       " ('meat', 0.43231600522994995),\n",
       " ('sauerkraut', 0.42550158500671387),\n",
       " ('roasted_pork', 0.4171394407749176),\n",
       " ('celery_oil', 0.41368457674980164),\n",
       " ('potatoes', 0.40992239117622375),\n",
       " ('tamarind', 0.4065804183483124)]"
      ]
     },
     "execution_count": 29,
     "metadata": {},
     "output_type": "execute_result"
    }
   ],
   "source": [
    "model_ingr2vec_ic.most_similar(positive=['veal'], negative=['truffle'], topn=10)"
   ]
  },
  {
   "cell_type": "code",
   "execution_count": null,
   "metadata": {
    "collapsed": true
   },
   "outputs": [],
   "source": []
  }
 ],
 "metadata": {
  "kernelspec": {
   "display_name": "pytorchenv",
   "language": "python",
   "name": "python3"
  },
  "language_info": {
   "codemirror_mode": {
    "name": "ipython",
    "version": 3
   },
   "file_extension": ".py",
   "mimetype": "text/x-python",
   "name": "python",
   "nbconvert_exporter": "python",
   "pygments_lexer": "ipython3",
   "version": "3.9.18"
  }
 },
 "nbformat": 4,
 "nbformat_minor": 2
}
